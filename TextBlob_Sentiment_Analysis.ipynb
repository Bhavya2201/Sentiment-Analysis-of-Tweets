{
 "cells": [
  {
   "cell_type": "code",
   "execution_count": 3,
   "metadata": {},
   "outputs": [],
   "source": [
    "import tweepy\n",
    "from textblob import TextBlob\n",
    "import sys"
   ]
  },
  {
   "cell_type": "code",
   "execution_count": 12,
   "metadata": {},
   "outputs": [],
   "source": [
    "mykeys=open('keys.txt','r').read().splitlines()"
   ]
  },
  {
   "cell_type": "code",
   "execution_count": 17,
   "metadata": {},
   "outputs": [],
   "source": [
    "api_key=mykeys[0]\n",
    "api_key_secret=mykeys[1]\n",
    "access_token=mykeys[2]\n",
    "access_token_secret=mykeys[3]"
   ]
  },
  {
   "cell_type": "code",
   "execution_count": 23,
   "metadata": {},
   "outputs": [],
   "source": [
    "auth_handle=tweepy.OAuthHandler(consumer_key=api_key,consumer_secret=api_key_secret)"
   ]
  },
  {
   "cell_type": "code",
   "execution_count": 24,
   "metadata": {},
   "outputs": [],
   "source": [
    "auth_handle.set_access_token(access_token,access_token_secret)"
   ]
  },
  {
   "cell_type": "code",
   "execution_count": 25,
   "metadata": {},
   "outputs": [],
   "source": [
    "api=tweepy.API(auth_handle)"
   ]
  },
  {
   "cell_type": "code",
   "execution_count": 26,
   "metadata": {},
   "outputs": [],
   "source": [
    "search_term=\"love\""
   ]
  },
  {
   "cell_type": "code",
   "execution_count": 51,
   "metadata": {},
   "outputs": [],
   "source": [
    "number_of_tweets=100"
   ]
  },
  {
   "cell_type": "code",
   "execution_count": 58,
   "metadata": {},
   "outputs": [],
   "source": [
    "polarity=0\n",
    "positive=0\n",
    "negative=0\n",
    "neutral=0"
   ]
  },
  {
   "cell_type": "code",
   "execution_count": 59,
   "metadata": {},
   "outputs": [],
   "source": [
    "tweets=tweepy.Cursor(api.search,q=search_term,lang='en').items(number_of_tweets)"
   ]
  },
  {
   "cell_type": "code",
   "execution_count": 61,
   "metadata": {},
   "outputs": [
    {
     "name": "stdout",
     "output_type": "stream",
     "text": [
      "33.74034451659452\n",
      "Positive :83\n",
      "Negative :8\n",
      "Neutral :9\n"
     ]
    }
   ],
   "source": [
    "for tweet in tweets:\n",
    "    final_text=tweet.text.replace('RT','')\n",
    "    if final_text.startswith(' @'):\n",
    "        position=final_text.index(':')\n",
    "        final_text=final_text[position+2:]\n",
    "    if final_text.startswith('@'):\n",
    "        position=final_text.index(' ')\n",
    "        final_text=final_text[position+2:]\n",
    "    analysis=TextBlob(final_text)\n",
    "    polarity+=analysis.polarity\n",
    "    tweet_polarity=analysis.polarity\n",
    "    if tweet_polarity >0.00:\n",
    "        positive+=1\n",
    "    elif tweet_polarity <0.00:\n",
    "        negative+=1\n",
    "    elif tweet_polarity==0.00:\n",
    "        neutral+=1\n",
    "    \n",
    "    \n",
    "print(polarity)\n",
    "print(f'Positive :{positive}')\n",
    "print(f'Negative :{negative}')\n",
    "print(f'Neutral :{neutral}')"
   ]
  },
  {
   "cell_type": "code",
   "execution_count": null,
   "metadata": {},
   "outputs": [],
   "source": [
    " "
   ]
  },
  {
   "cell_type": "code",
   "execution_count": null,
   "metadata": {},
   "outputs": [],
   "source": []
  }
 ],
 "metadata": {
  "kernelspec": {
   "display_name": "Python 3",
   "language": "python",
   "name": "python3"
  },
  "language_info": {
   "codemirror_mode": {
    "name": "ipython",
    "version": 3
   },
   "file_extension": ".py",
   "mimetype": "text/x-python",
   "name": "python",
   "nbconvert_exporter": "python",
   "pygments_lexer": "ipython3",
   "version": "3.8.5"
  }
 },
 "nbformat": 4,
 "nbformat_minor": 4
}
